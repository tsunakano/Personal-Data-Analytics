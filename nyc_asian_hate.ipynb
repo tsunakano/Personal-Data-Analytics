{
 "cells": [
  {
   "cell_type": "markdown",
   "id": "61456fc4",
   "metadata": {},
   "source": [
    "# New York City Asian Hate\n",
    "Going through New York City hate crime data from [NYC Open data](https://data.cityofnewyork.us/Public-Safety/NYPD-Hate-Crimes/bqiq-cu78) to see if hate crimes against asians have been increased since COVID-19 pandemic."
   ]
  },
  {
   "cell_type": "code",
   "execution_count": 1,
   "id": "f3b4b450",
   "metadata": {},
   "outputs": [],
   "source": [
    "import pandas as pd\n",
    "import seaborn as sns\n",
    "import matplotlib.pyplot as plt\n",
    "df = pd.read_csv('data/NYPD_Hate_Crimes.csv', index_col='Full Complaint ID')"
   ]
  },
  {
   "cell_type": "code",
   "execution_count": 2,
   "id": "84a88b4e",
   "metadata": {},
   "outputs": [
    {
     "data": {
      "text/html": [
       "<div>\n",
       "<style scoped>\n",
       "    .dataframe tbody tr th:only-of-type {\n",
       "        vertical-align: middle;\n",
       "    }\n",
       "\n",
       "    .dataframe tbody tr th {\n",
       "        vertical-align: top;\n",
       "    }\n",
       "\n",
       "    .dataframe thead th {\n",
       "        text-align: right;\n",
       "    }\n",
       "</style>\n",
       "<table border=\"1\" class=\"dataframe\">\n",
       "  <thead>\n",
       "    <tr style=\"text-align: right;\">\n",
       "      <th></th>\n",
       "      <th>Complaint Year Number</th>\n",
       "      <th>Month Number</th>\n",
       "      <th>Record Create Date</th>\n",
       "      <th>Complaint Precinct Code</th>\n",
       "      <th>Patrol Borough Name</th>\n",
       "      <th>County</th>\n",
       "      <th>Law Code Category Description</th>\n",
       "      <th>Offense Description</th>\n",
       "      <th>PD Code Description</th>\n",
       "      <th>Bias Motive Description</th>\n",
       "      <th>Offense Category</th>\n",
       "      <th>Arrest Date</th>\n",
       "      <th>Arrest Id</th>\n",
       "    </tr>\n",
       "    <tr>\n",
       "      <th>Full Complaint ID</th>\n",
       "      <th></th>\n",
       "      <th></th>\n",
       "      <th></th>\n",
       "      <th></th>\n",
       "      <th></th>\n",
       "      <th></th>\n",
       "      <th></th>\n",
       "      <th></th>\n",
       "      <th></th>\n",
       "      <th></th>\n",
       "      <th></th>\n",
       "      <th></th>\n",
       "      <th></th>\n",
       "    </tr>\n",
       "  </thead>\n",
       "  <tbody>\n",
       "    <tr>\n",
       "      <th>201904612204817</th>\n",
       "      <td>2019</td>\n",
       "      <td>2</td>\n",
       "      <td>02/08/2019</td>\n",
       "      <td>46</td>\n",
       "      <td>PATROL BORO BRONX</td>\n",
       "      <td>BRONX</td>\n",
       "      <td>FELONY</td>\n",
       "      <td>FELONY ASSAULT</td>\n",
       "      <td>ASSAULT 2,1,UNCLASSIFIED</td>\n",
       "      <td>ANTI-MALE HOMOSEXUAL (GAY)</td>\n",
       "      <td>Sexual Orientation</td>\n",
       "      <td>02/08/2019</td>\n",
       "      <td>B31678218</td>\n",
       "    </tr>\n",
       "    <tr>\n",
       "      <th>201904812229517</th>\n",
       "      <td>2019</td>\n",
       "      <td>3</td>\n",
       "      <td>03/09/2019</td>\n",
       "      <td>48</td>\n",
       "      <td>PATROL BORO BRONX</td>\n",
       "      <td>BRONX</td>\n",
       "      <td>MISDEMEANOR</td>\n",
       "      <td>ASSAULT 3 &amp; RELATED OFFENSES</td>\n",
       "      <td>ASSAULT 3</td>\n",
       "      <td>ANTI-WHITE</td>\n",
       "      <td>Race/Color</td>\n",
       "      <td>03/09/2019</td>\n",
       "      <td>B31682790</td>\n",
       "    </tr>\n",
       "    <tr>\n",
       "      <th>201904812226617</th>\n",
       "      <td>2019</td>\n",
       "      <td>3</td>\n",
       "      <td>03/08/2019</td>\n",
       "      <td>48</td>\n",
       "      <td>PATROL BORO BRONX</td>\n",
       "      <td>BRONX</td>\n",
       "      <td>MISDEMEANOR</td>\n",
       "      <td>ASSAULT 3 &amp; RELATED OFFENSES</td>\n",
       "      <td>ASSAULT 3</td>\n",
       "      <td>ANTI-WHITE</td>\n",
       "      <td>Race/Color</td>\n",
       "      <td>03/09/2019</td>\n",
       "      <td>B31682806</td>\n",
       "    </tr>\n",
       "    <tr>\n",
       "      <th>201904812231317</th>\n",
       "      <td>2019</td>\n",
       "      <td>3</td>\n",
       "      <td>03/10/2019</td>\n",
       "      <td>48</td>\n",
       "      <td>PATROL BORO BRONX</td>\n",
       "      <td>BRONX</td>\n",
       "      <td>MISDEMEANOR</td>\n",
       "      <td>ASSAULT 3 &amp; RELATED OFFENSES</td>\n",
       "      <td>ASSAULT 3</td>\n",
       "      <td>ANTI-WHITE</td>\n",
       "      <td>Race/Color</td>\n",
       "      <td>03/09/2019</td>\n",
       "      <td>B31682806</td>\n",
       "    </tr>\n",
       "    <tr>\n",
       "      <th>201904212405517</th>\n",
       "      <td>2019</td>\n",
       "      <td>5</td>\n",
       "      <td>05/11/2019</td>\n",
       "      <td>42</td>\n",
       "      <td>PATROL BORO BRONX</td>\n",
       "      <td>BRONX</td>\n",
       "      <td>FELONY</td>\n",
       "      <td>ROBBERY</td>\n",
       "      <td>ROBBERY,POCKETBOOK/CARRIED BAG</td>\n",
       "      <td>ANTI-MUSLIM</td>\n",
       "      <td>Religion/Religious Practice</td>\n",
       "      <td>05/10/2019</td>\n",
       "      <td>B31692174</td>\n",
       "    </tr>\n",
       "  </tbody>\n",
       "</table>\n",
       "</div>"
      ],
      "text/plain": [
       "                   Complaint Year Number  Month Number Record Create Date  \\\n",
       "Full Complaint ID                                                           \n",
       "201904612204817                     2019             2         02/08/2019   \n",
       "201904812229517                     2019             3         03/09/2019   \n",
       "201904812226617                     2019             3         03/08/2019   \n",
       "201904812231317                     2019             3         03/10/2019   \n",
       "201904212405517                     2019             5         05/11/2019   \n",
       "\n",
       "                   Complaint Precinct Code Patrol Borough Name County  \\\n",
       "Full Complaint ID                                                       \n",
       "201904612204817                         46   PATROL BORO BRONX  BRONX   \n",
       "201904812229517                         48   PATROL BORO BRONX  BRONX   \n",
       "201904812226617                         48   PATROL BORO BRONX  BRONX   \n",
       "201904812231317                         48   PATROL BORO BRONX  BRONX   \n",
       "201904212405517                         42   PATROL BORO BRONX  BRONX   \n",
       "\n",
       "                  Law Code Category Description           Offense Description  \\\n",
       "Full Complaint ID                                                               \n",
       "201904612204817                          FELONY                FELONY ASSAULT   \n",
       "201904812229517                     MISDEMEANOR  ASSAULT 3 & RELATED OFFENSES   \n",
       "201904812226617                     MISDEMEANOR  ASSAULT 3 & RELATED OFFENSES   \n",
       "201904812231317                     MISDEMEANOR  ASSAULT 3 & RELATED OFFENSES   \n",
       "201904212405517                          FELONY                       ROBBERY   \n",
       "\n",
       "                              PD Code Description     Bias Motive Description  \\\n",
       "Full Complaint ID                                                               \n",
       "201904612204817          ASSAULT 2,1,UNCLASSIFIED  ANTI-MALE HOMOSEXUAL (GAY)   \n",
       "201904812229517                         ASSAULT 3                  ANTI-WHITE   \n",
       "201904812226617                         ASSAULT 3                  ANTI-WHITE   \n",
       "201904812231317                         ASSAULT 3                  ANTI-WHITE   \n",
       "201904212405517    ROBBERY,POCKETBOOK/CARRIED BAG                 ANTI-MUSLIM   \n",
       "\n",
       "                              Offense Category Arrest Date  Arrest Id  \n",
       "Full Complaint ID                                                      \n",
       "201904612204817             Sexual Orientation  02/08/2019  B31678218  \n",
       "201904812229517                     Race/Color  03/09/2019  B31682790  \n",
       "201904812226617                     Race/Color  03/09/2019  B31682806  \n",
       "201904812231317                     Race/Color  03/09/2019  B31682806  \n",
       "201904212405517    Religion/Religious Practice  05/10/2019  B31692174  "
      ]
     },
     "execution_count": 2,
     "metadata": {},
     "output_type": "execute_result"
    }
   ],
   "source": [
    "df.head()"
   ]
  },
  {
   "cell_type": "markdown",
   "id": "96fecb98",
   "metadata": {},
   "source": [
    "## In general, did hate crime in NYC increase or decrease in last three years?"
   ]
  },
  {
   "cell_type": "code",
   "execution_count": 3,
   "id": "1735b319",
   "metadata": {},
   "outputs": [
    {
     "data": {
      "text/plain": [
       "<AxesSubplot:ylabel='year'>"
      ]
     },
     "execution_count": 3,
     "metadata": {},
     "output_type": "execute_result"
    },
    {
     "data": {
      "image/png": "[encoded data removed]",
      "text/plain": [
       "<Figure size 432x288 with 1 Axes>"
      ]
     },
     "metadata": {
      "needs_background": "light"
     },
     "output_type": "display_data"
    }
   ],
   "source": [
    "df.rename(columns={'Complaint Year Number':'year', 'Bias Motive Description':'motive'}, inplace=True)\n",
    "df2 = df[['year', 'motive']]\n",
    "df2.groupby('year').size().plot.barh()"
   ]
  },
  {
   "cell_type": "code",
   "execution_count": 44,
   "id": "8fda46b4",
   "metadata": {},
   "outputs": [
    {
     "name": "stdout",
     "output_type": "stream",
     "text": [
      "26.39821\n"
     ]
    }
   ],
   "source": [
    "filt = df.groupby(['year']).size().reset_index(name='counts')\n",
    "filt.set_index('year', inplace=True)\n",
    "c19 = filt.loc[2019, ['counts']]\n",
    "c21 = filt.loc[2021, ['counts']]\n",
    "change = ((c21 - c19) / c19) * 100\n",
    "print(change.to_string(index=False))"
   ]
  },
  {
   "cell_type": "markdown",
   "id": "41f9d396",
   "metadata": {},
   "source": [
    "Hate crimes in NYC increased by 26% in 2021 from 2019. The drop in 2020 from 2019 must be because of COVID-19 lockdown that people were unable to go outside other than essential workers.\n",
    "Next, we are going to look at what hate crime motivations are.\n",
    "The below chart is top 5 motivation of hate crime in NYC."
   ]
  },
  {
   "cell_type": "code",
   "execution_count": 24,
   "id": "f1a8b817",
   "metadata": {},
   "outputs": [],
   "source": [
    "df3 = df.loc[(df['motive'] == 'ANTI-WHITE') | \n",
    "       (df['motive'] == 'ANTI-BLACK') |\n",
    "       (df['motive'] == 'ANTI-ASIAN') | \n",
    "       (df['motive'] == 'ANTI-JEWISH') |\n",
    "       (df['motive'] == 'ANTI-MALE HOMOSEXUAL(GAY)') ]\n",
    "df3 = df3[['year', 'motive']]"
   ]
  },
  {
   "cell_type": "code",
   "execution_count": 25,
   "id": "d4fbf589",
   "metadata": {},
   "outputs": [
    {
     "data": {
      "text/plain": [
       "<AxesSubplot:xlabel='year'>"
      ]
     },
     "execution_count": 25,
     "metadata": {},
     "output_type": "execute_result"
    },
    {
     "data": {
      "image/png": "[encoded data removed]",
      "text/plain": [
       "<Figure size 432x288 with 1 Axes>"
      ]
     },
     "metadata": {
      "needs_background": "light"
     },
     "output_type": "display_data"
    }
   ],
   "source": [
    "piv = pd.pivot_table(df3, index='year', columns='motive', aggfunc=len, fill_value=0)\n",
    "piv.plot()"
   ]
  },
  {
   "cell_type": "code",
   "execution_count": 42,
   "id": "4765da79",
   "metadata": {},
   "outputs": [
    {
     "name": "stdout",
     "output_type": "stream",
     "text": [
      "14300.0\n"
     ]
    }
   ],
   "source": [
    "a19 = piv.at[2019, 'ANTI-ASIAN']\n",
    "a21 = piv.at[2021, 'ANTI-ASIAN']\n",
    "change_asian = ((a21 - a19) / a19) * 100\n",
    "print(change_asian)"
   ]
  },
  {
   "cell_type": "markdown",
   "id": "eb14be80",
   "metadata": {},
   "source": [
    "Hate crime against Asian has been increased by 14300% since COVID-19 Lockdown. It's safe to say that it is not good time to go back to NYXC even for the job you wanted as asian. In result of this analysis, I will decline my job offer."
   ]
  }
 ],
 "metadata": {
  "kernelspec": {
   "display_name": "Python 3 (ipykernel)",
   "language": "python",
   "name": "python3"
  },
  "language_info": {
   "codemirror_mode": {
    "name": "ipython",
    "version": 3
   },
   "file_extension": ".py",
   "mimetype": "text/x-python",
   "name": "python",
   "nbconvert_exporter": "python",
   "pygments_lexer": "ipython3",
   "version": "3.9.12"
  }
 },
 "nbformat": 4,
 "nbformat_minor": 5
}
