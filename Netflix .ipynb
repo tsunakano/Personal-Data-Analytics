{
 "cells": [
  {
   "cell_type": "markdown",
   "id": "bc3a8618",
   "metadata": {},
   "source": [
    "The dataset is collected from Kaggle.\n",
    "It has information about Shows and Movies available on Netflix in 2021."
   ]
  },
  {
   "cell_type": "code",
   "execution_count": 1,
   "id": "30b8f762",
   "metadata": {},
   "outputs": [
    {
     "data": {
      "text/html": [
       "<div>\n",
       "<style scoped>\n",
       "    .dataframe tbody tr th:only-of-type {\n",
       "        vertical-align: middle;\n",
       "    }\n",
       "\n",
       "    .dataframe tbody tr th {\n",
       "        vertical-align: top;\n",
       "    }\n",
       "\n",
       "    .dataframe thead th {\n",
       "        text-align: right;\n",
       "    }\n",
       "</style>\n",
       "<table border=\"1\" class=\"dataframe\">\n",
       "  <thead>\n",
       "    <tr style=\"text-align: right;\">\n",
       "      <th></th>\n",
       "      <th>Show_Id</th>\n",
       "      <th>Category</th>\n",
       "      <th>Title</th>\n",
       "      <th>Director</th>\n",
       "      <th>Cast</th>\n",
       "      <th>Country</th>\n",
       "      <th>Release_Date</th>\n",
       "      <th>Rating</th>\n",
       "      <th>Duration</th>\n",
       "      <th>Type</th>\n",
       "      <th>Description</th>\n",
       "    </tr>\n",
       "  </thead>\n",
       "  <tbody>\n",
       "    <tr>\n",
       "      <th>0</th>\n",
       "      <td>s1</td>\n",
       "      <td>TV Show</td>\n",
       "      <td>3%</td>\n",
       "      <td>NaN</td>\n",
       "      <td>João Miguel, Bianca Comparato, Michel Gomes, R...</td>\n",
       "      <td>Brazil</td>\n",
       "      <td>August 14, 2020</td>\n",
       "      <td>TV-MA</td>\n",
       "      <td>4 Seasons</td>\n",
       "      <td>International TV Shows, TV Dramas, TV Sci-Fi &amp;...</td>\n",
       "      <td>In a future where the elite inhabit an island ...</td>\n",
       "    </tr>\n",
       "    <tr>\n",
       "      <th>1</th>\n",
       "      <td>s2</td>\n",
       "      <td>Movie</td>\n",
       "      <td>07:19</td>\n",
       "      <td>Jorge Michel Grau</td>\n",
       "      <td>Demián Bichir, Héctor Bonilla, Oscar Serrano, ...</td>\n",
       "      <td>Mexico</td>\n",
       "      <td>December 23, 2016</td>\n",
       "      <td>TV-MA</td>\n",
       "      <td>93 min</td>\n",
       "      <td>Dramas, International Movies</td>\n",
       "      <td>After a devastating earthquake hits Mexico Cit...</td>\n",
       "    </tr>\n",
       "    <tr>\n",
       "      <th>2</th>\n",
       "      <td>s3</td>\n",
       "      <td>Movie</td>\n",
       "      <td>23:59</td>\n",
       "      <td>Gilbert Chan</td>\n",
       "      <td>Tedd Chan, Stella Chung, Henley Hii, Lawrence ...</td>\n",
       "      <td>Singapore</td>\n",
       "      <td>December 20, 2018</td>\n",
       "      <td>R</td>\n",
       "      <td>78 min</td>\n",
       "      <td>Horror Movies, International Movies</td>\n",
       "      <td>When an army recruit is found dead, his fellow...</td>\n",
       "    </tr>\n",
       "    <tr>\n",
       "      <th>3</th>\n",
       "      <td>s4</td>\n",
       "      <td>Movie</td>\n",
       "      <td>9</td>\n",
       "      <td>Shane Acker</td>\n",
       "      <td>Elijah Wood, John C. Reilly, Jennifer Connelly...</td>\n",
       "      <td>United States</td>\n",
       "      <td>November 16, 2017</td>\n",
       "      <td>PG-13</td>\n",
       "      <td>80 min</td>\n",
       "      <td>Action &amp; Adventure, Independent Movies, Sci-Fi...</td>\n",
       "      <td>In a postapocalyptic world, rag-doll robots hi...</td>\n",
       "    </tr>\n",
       "    <tr>\n",
       "      <th>4</th>\n",
       "      <td>s5</td>\n",
       "      <td>Movie</td>\n",
       "      <td>21</td>\n",
       "      <td>Robert Luketic</td>\n",
       "      <td>Jim Sturgess, Kevin Spacey, Kate Bosworth, Aar...</td>\n",
       "      <td>United States</td>\n",
       "      <td>January 1, 2020</td>\n",
       "      <td>PG-13</td>\n",
       "      <td>123 min</td>\n",
       "      <td>Dramas</td>\n",
       "      <td>A brilliant group of students become card-coun...</td>\n",
       "    </tr>\n",
       "  </tbody>\n",
       "</table>\n",
       "</div>"
      ],
      "text/plain": [
       "  Show_Id Category  Title           Director  \\\n",
       "0      s1  TV Show     3%                NaN   \n",
       "1      s2    Movie  07:19  Jorge Michel Grau   \n",
       "2      s3    Movie  23:59       Gilbert Chan   \n",
       "3      s4    Movie      9        Shane Acker   \n",
       "4      s5    Movie     21     Robert Luketic   \n",
       "\n",
       "                                                Cast        Country  \\\n",
       "0  João Miguel, Bianca Comparato, Michel Gomes, R...         Brazil   \n",
       "1  Demián Bichir, Héctor Bonilla, Oscar Serrano, ...         Mexico   \n",
       "2  Tedd Chan, Stella Chung, Henley Hii, Lawrence ...      Singapore   \n",
       "3  Elijah Wood, John C. Reilly, Jennifer Connelly...  United States   \n",
       "4  Jim Sturgess, Kevin Spacey, Kate Bosworth, Aar...  United States   \n",
       "\n",
       "        Release_Date Rating   Duration  \\\n",
       "0    August 14, 2020  TV-MA  4 Seasons   \n",
       "1  December 23, 2016  TV-MA     93 min   \n",
       "2  December 20, 2018      R     78 min   \n",
       "3  November 16, 2017  PG-13     80 min   \n",
       "4    January 1, 2020  PG-13    123 min   \n",
       "\n",
       "                                                Type  \\\n",
       "0  International TV Shows, TV Dramas, TV Sci-Fi &...   \n",
       "1                       Dramas, International Movies   \n",
       "2                Horror Movies, International Movies   \n",
       "3  Action & Adventure, Independent Movies, Sci-Fi...   \n",
       "4                                             Dramas   \n",
       "\n",
       "                                         Description  \n",
       "0  In a future where the elite inhabit an island ...  \n",
       "1  After a devastating earthquake hits Mexico Cit...  \n",
       "2  When an army recruit is found dead, his fellow...  \n",
       "3  In a postapocalyptic world, rag-doll robots hi...  \n",
       "4  A brilliant group of students become card-coun...  "
      ]
     },
     "execution_count": 1,
     "metadata": {},
     "output_type": "execute_result"
    }
   ],
   "source": [
    "import pandas as pd\n",
    "import seaborn as sns\n",
    "import numpy as np\n",
    "import matplotlib.pyplot as plt\n",
    "df = pd.read_csv('data/Netflix Dataset.csv')\n",
    "df.head()"
   ]
  },
  {
   "cell_type": "markdown",
   "id": "abccc901",
   "metadata": {},
   "source": [
    "Cleaning data\n",
    "1. Duplicate\n",
    "2. Data Types\n",
    "3. Null Data\n"
   ]
  },
  {
   "cell_type": "code",
   "execution_count": 2,
   "id": "757122a6",
   "metadata": {},
   "outputs": [],
   "source": [
    "df.drop_duplicates(inplace=True)"
   ]
  },
  {
   "cell_type": "code",
   "execution_count": 3,
   "id": "dbff5d3a",
   "metadata": {},
   "outputs": [],
   "source": [
    "df['Release_Date'] = pd.to_datetime(df['Release_Date'])"
   ]
  },
  {
   "cell_type": "markdown",
   "id": "7f928b52",
   "metadata": {},
   "source": [
    "Which is more popular in Netflix, Show or Movie?"
   ]
  },
  {
   "cell_type": "code",
   "execution_count": 4,
   "id": "33a73076",
   "metadata": {},
   "outputs": [],
   "source": [
    "df.fillna({'Director': 'N/A', 'Cast': 'N/A', 'Country': 'N/A', 'Rating': 'N/A'}, inplace=True)"
   ]
  },
  {
   "cell_type": "code",
   "execution_count": 5,
   "id": "c0ed34e9",
   "metadata": {},
   "outputs": [
    {
     "data": {
      "text/plain": [
       "Text(0.5, 1.0, 'Number of TV show vs Movie')"
      ]
     },
     "execution_count": 5,
     "metadata": {},
     "output_type": "execute_result"
    },
    {
     "data": {
      "image/png": "[encoded data removed]",
      "text/plain": [
       "<Figure size 432x288 with 1 Axes>"
      ]
     },
     "metadata": {
      "needs_background": "light"
     },
     "output_type": "display_data"
    }
   ],
   "source": [
    "sns.countplot(data=df, x='Category')\n",
    "plt.title('Number of TV show vs Movie')"
   ]
  },
  {
   "cell_type": "markdown",
   "id": "2ec77fd8",
   "metadata": {},
   "source": [
    "How many movies are from US?"
   ]
  },
  {
   "cell_type": "code",
   "execution_count": 6,
   "id": "c48e99e8",
   "metadata": {},
   "outputs": [
    {
     "data": {
      "text/plain": [
       "1850"
      ]
     },
     "execution_count": 6,
     "metadata": {},
     "output_type": "execute_result"
    }
   ],
   "source": [
    "len(df[(df['Country'] == 'United States') & (df['Category'] == 'Movie')])"
   ]
  },
  {
   "cell_type": "markdown",
   "id": "ff97f85f",
   "metadata": {},
   "source": [
    "What country produced the most contents?"
   ]
  },
  {
   "cell_type": "code",
   "execution_count": 7,
   "id": "f1606955",
   "metadata": {},
   "outputs": [
    {
     "data": {
      "text/plain": [
       "Text(0.5, 1.0, 'Top 10 countries producing contents on Netflex')"
      ]
     },
     "execution_count": 7,
     "metadata": {},
     "output_type": "execute_result"
    },
    {
     "data": {
      "image/png": "[encoded data removed]",
      "text/plain": [
       "<Figure size 864x432 with 1 Axes>"
      ]
     },
     "metadata": {
      "needs_background": "light"
     },
     "output_type": "display_data"
    }
   ],
   "source": [
    "plt.figure(figsize=(12, 6))\n",
    "sns.countplot(data = df, y = 'Country', order = df['Country'].value_counts().index[0:10])\n",
    "plt.title('Top 10 countries producing contents on Netflex')\n"
   ]
  },
  {
   "cell_type": "markdown",
   "id": "172eebc0",
   "metadata": {},
   "source": [
    "What movies on Netflix Tom Cruise is in?"
   ]
  },
  {
   "cell_type": "code",
   "execution_count": 8,
   "id": "71fb43fa",
   "metadata": {},
   "outputs": [
    {
     "data": {
      "text/html": [
       "<div>\n",
       "<style scoped>\n",
       "    .dataframe tbody tr th:only-of-type {\n",
       "        vertical-align: middle;\n",
       "    }\n",
       "\n",
       "    .dataframe tbody tr th {\n",
       "        vertical-align: top;\n",
       "    }\n",
       "\n",
       "    .dataframe thead th {\n",
       "        text-align: right;\n",
       "    }\n",
       "</style>\n",
       "<table border=\"1\" class=\"dataframe\">\n",
       "  <thead>\n",
       "    <tr style=\"text-align: right;\">\n",
       "      <th></th>\n",
       "      <th>Show_Id</th>\n",
       "      <th>Category</th>\n",
       "      <th>Title</th>\n",
       "      <th>Director</th>\n",
       "      <th>Cast</th>\n",
       "      <th>Country</th>\n",
       "      <th>Release_Date</th>\n",
       "      <th>Rating</th>\n",
       "      <th>Duration</th>\n",
       "      <th>Type</th>\n",
       "      <th>Description</th>\n",
       "    </tr>\n",
       "  </thead>\n",
       "  <tbody>\n",
       "    <tr>\n",
       "      <th>3860</th>\n",
       "      <td>s3861</td>\n",
       "      <td>Movie</td>\n",
       "      <td>Magnolia</td>\n",
       "      <td>Paul Thomas Anderson</td>\n",
       "      <td>Jeremy Blackman, Tom Cruise, Melinda Dillon, A...</td>\n",
       "      <td>United States</td>\n",
       "      <td>2020-01-01</td>\n",
       "      <td>R</td>\n",
       "      <td>189 min</td>\n",
       "      <td>Dramas, Independent Movies</td>\n",
       "      <td>Through chance, human action, past history and...</td>\n",
       "    </tr>\n",
       "    <tr>\n",
       "      <th>5071</th>\n",
       "      <td>s5071</td>\n",
       "      <td>Movie</td>\n",
       "      <td>Rain Man</td>\n",
       "      <td>Barry Levinson</td>\n",
       "      <td>Dustin Hoffman, Tom Cruise, Valeria Golino, Ge...</td>\n",
       "      <td>United States</td>\n",
       "      <td>2019-07-01</td>\n",
       "      <td>R</td>\n",
       "      <td>134 min</td>\n",
       "      <td>Classic Movies, Dramas</td>\n",
       "      <td>A fast-talking yuppie is forced to slow down w...</td>\n",
       "    </tr>\n",
       "  </tbody>\n",
       "</table>\n",
       "</div>"
      ],
      "text/plain": [
       "     Show_Id Category     Title              Director  \\\n",
       "3860   s3861    Movie  Magnolia  Paul Thomas Anderson   \n",
       "5071   s5071    Movie  Rain Man        Barry Levinson   \n",
       "\n",
       "                                                   Cast        Country  \\\n",
       "3860  Jeremy Blackman, Tom Cruise, Melinda Dillon, A...  United States   \n",
       "5071  Dustin Hoffman, Tom Cruise, Valeria Golino, Ge...  United States   \n",
       "\n",
       "     Release_Date Rating Duration                        Type  \\\n",
       "3860   2020-01-01      R  189 min  Dramas, Independent Movies   \n",
       "5071   2019-07-01      R  134 min      Classic Movies, Dramas   \n",
       "\n",
       "                                            Description  \n",
       "3860  Through chance, human action, past history and...  \n",
       "5071  A fast-talking yuppie is forced to slow down w...  "
      ]
     },
     "execution_count": 8,
     "metadata": {},
     "output_type": "execute_result"
    }
   ],
   "source": [
    "df2 = df.dropna()\n",
    "df2[df2['Cast'].str.contains('Tom Cruise')]"
   ]
  },
  {
   "cell_type": "markdown",
   "id": "35c04570",
   "metadata": {},
   "source": [
    "What are the five contents that came out most recently in the US?"
   ]
  },
  {
   "cell_type": "code",
   "execution_count": 9,
   "id": "4521e67e",
   "metadata": {
    "scrolled": true
   },
   "outputs": [
    {
     "data": {
      "text/html": [
       "<div>\n",
       "<style scoped>\n",
       "    .dataframe tbody tr th:only-of-type {\n",
       "        vertical-align: middle;\n",
       "    }\n",
       "\n",
       "    .dataframe tbody tr th {\n",
       "        vertical-align: top;\n",
       "    }\n",
       "\n",
       "    .dataframe thead th {\n",
       "        text-align: right;\n",
       "    }\n",
       "</style>\n",
       "<table border=\"1\" class=\"dataframe\">\n",
       "  <thead>\n",
       "    <tr style=\"text-align: right;\">\n",
       "      <th></th>\n",
       "      <th>Show_Id</th>\n",
       "      <th>Category</th>\n",
       "      <th>Title</th>\n",
       "      <th>Director</th>\n",
       "      <th>Cast</th>\n",
       "      <th>Country</th>\n",
       "      <th>Release_Date</th>\n",
       "      <th>Rating</th>\n",
       "      <th>Duration</th>\n",
       "      <th>Type</th>\n",
       "      <th>Description</th>\n",
       "    </tr>\n",
       "  </thead>\n",
       "  <tbody>\n",
       "    <tr>\n",
       "      <th>5060</th>\n",
       "      <td>s5060</td>\n",
       "      <td>Movie</td>\n",
       "      <td>Radium Girls</td>\n",
       "      <td>Lydia Dean Pilcher, Ginny Mohler</td>\n",
       "      <td>Joey King, Abby Quinn, Cara Seymour, Scott She...</td>\n",
       "      <td>United States</td>\n",
       "      <td>2021-01-16</td>\n",
       "      <td>TV-14</td>\n",
       "      <td>103 min</td>\n",
       "      <td>Dramas, Independent Movies</td>\n",
       "      <td>When the women at a radium factory begin to fa...</td>\n",
       "    </tr>\n",
       "    <tr>\n",
       "      <th>6977</th>\n",
       "      <td>s6976</td>\n",
       "      <td>Movie</td>\n",
       "      <td>The Vanished</td>\n",
       "      <td>Peter Facinelli</td>\n",
       "      <td>Thomas Jane, Anne Heche, Jason Patric, John D....</td>\n",
       "      <td>United States</td>\n",
       "      <td>2021-01-15</td>\n",
       "      <td>R</td>\n",
       "      <td>115 min</td>\n",
       "      <td>Thrillers</td>\n",
       "      <td>When their daughter disappears during a family...</td>\n",
       "    </tr>\n",
       "    <tr>\n",
       "      <th>2799</th>\n",
       "      <td>s2800</td>\n",
       "      <td>Movie</td>\n",
       "      <td>Hook</td>\n",
       "      <td>Steven Spielberg</td>\n",
       "      <td>Dustin Hoffman, Robin Williams, Julia Roberts,...</td>\n",
       "      <td>United States</td>\n",
       "      <td>2021-01-15</td>\n",
       "      <td>PG</td>\n",
       "      <td>142 min</td>\n",
       "      <td>Children &amp; Family Movies</td>\n",
       "      <td>Peter Pan, now grown up and a workaholic, must...</td>\n",
       "    </tr>\n",
       "    <tr>\n",
       "      <th>7571</th>\n",
       "      <td>s7570</td>\n",
       "      <td>Movie</td>\n",
       "      <td>What Would Sophia Loren Do?</td>\n",
       "      <td>Ross Kauffman</td>\n",
       "      <td>Nancy \"Vincenza Careri\" Kulik, Sophia Loren</td>\n",
       "      <td>United States</td>\n",
       "      <td>2021-01-15</td>\n",
       "      <td>TV-14</td>\n",
       "      <td>32 min</td>\n",
       "      <td>Documentaries</td>\n",
       "      <td>In this delightful short documentary, an Itali...</td>\n",
       "    </tr>\n",
       "    <tr>\n",
       "      <th>1780</th>\n",
       "      <td>s1781</td>\n",
       "      <td>TV Show</td>\n",
       "      <td>Disenchantment</td>\n",
       "      <td>N/A</td>\n",
       "      <td>Abbi Jacobson, Eric André, Nat Faxon, John DiM...</td>\n",
       "      <td>United States</td>\n",
       "      <td>2021-01-15</td>\n",
       "      <td>TV-14</td>\n",
       "      <td>3 Seasons</td>\n",
       "      <td>TV Action &amp; Adventure, TV Comedies, TV Sci-Fi ...</td>\n",
       "      <td>Princess duties call, but she'd rather be drin...</td>\n",
       "    </tr>\n",
       "  </tbody>\n",
       "</table>\n",
       "</div>"
      ],
      "text/plain": [
       "     Show_Id Category                        Title  \\\n",
       "5060   s5060    Movie                 Radium Girls   \n",
       "6977   s6976    Movie                 The Vanished   \n",
       "2799   s2800    Movie                         Hook   \n",
       "7571   s7570    Movie  What Would Sophia Loren Do?   \n",
       "1780   s1781  TV Show               Disenchantment   \n",
       "\n",
       "                              Director  \\\n",
       "5060  Lydia Dean Pilcher, Ginny Mohler   \n",
       "6977                   Peter Facinelli   \n",
       "2799                  Steven Spielberg   \n",
       "7571                     Ross Kauffman   \n",
       "1780                               N/A   \n",
       "\n",
       "                                                   Cast        Country  \\\n",
       "5060  Joey King, Abby Quinn, Cara Seymour, Scott She...  United States   \n",
       "6977  Thomas Jane, Anne Heche, Jason Patric, John D....  United States   \n",
       "2799  Dustin Hoffman, Robin Williams, Julia Roberts,...  United States   \n",
       "7571        Nancy \"Vincenza Careri\" Kulik, Sophia Loren  United States   \n",
       "1780  Abbi Jacobson, Eric André, Nat Faxon, John DiM...  United States   \n",
       "\n",
       "     Release_Date Rating   Duration  \\\n",
       "5060   2021-01-16  TV-14    103 min   \n",
       "6977   2021-01-15      R    115 min   \n",
       "2799   2021-01-15     PG    142 min   \n",
       "7571   2021-01-15  TV-14     32 min   \n",
       "1780   2021-01-15  TV-14  3 Seasons   \n",
       "\n",
       "                                                   Type  \\\n",
       "5060                         Dramas, Independent Movies   \n",
       "6977                                          Thrillers   \n",
       "2799                           Children & Family Movies   \n",
       "7571                                      Documentaries   \n",
       "1780  TV Action & Adventure, TV Comedies, TV Sci-Fi ...   \n",
       "\n",
       "                                            Description  \n",
       "5060  When the women at a radium factory begin to fa...  \n",
       "6977  When their daughter disappears during a family...  \n",
       "2799  Peter Pan, now grown up and a workaholic, must...  \n",
       "7571  In this delightful short documentary, an Itali...  \n",
       "1780  Princess duties call, but she'd rather be drin...  "
      ]
     },
     "execution_count": 9,
     "metadata": {},
     "output_type": "execute_result"
    }
   ],
   "source": [
    "df_us = df[(df['Country'] == 'United States')]\n",
    "df_us.sort_values('Release_Date', ascending=False).head()"
   ]
  },
  {
   "cell_type": "markdown",
   "id": "2549ef21",
   "metadata": {},
   "source": [
    "How are the contents on Netflix changed over years?"
   ]
  },
  {
   "cell_type": "code",
   "execution_count": 11,
   "id": "93c17323",
   "metadata": {},
   "outputs": [
    {
     "data": {
      "text/plain": [
       "<AxesSubplot:title={'center':'Contents number by year'}, xlabel='year', ylabel='Title'>"
      ]
     },
     "execution_count": 11,
     "metadata": {},
     "output_type": "execute_result"
    },
    {
     "data": {
      "image/png": "[encoded data removed]",
      "text/plain": [
       "<Figure size 864x432 with 1 Axes>"
      ]
     },
     "metadata": {
      "needs_background": "light"
     },
     "output_type": "display_data"
    }
   ],
   "source": [
    "df['year'] = pd.DatetimeIndex(df['Release_Date']).year\n",
    "df['year'] = df['year'].astype('Int64')\n",
    "df_count = df.groupby('year').agg('count').reset_index()\n",
    "df_count.drop(13, inplace=True)\n",
    "plt.figure(figsize=(12, 6))\n",
    "plt.title('Contents number by year')\n",
    "sns.lineplot(data=df_count, x='year', y='Title')"
   ]
  },
  {
   "cell_type": "code",
   "execution_count": null,
   "id": "3e3fbfd0",
   "metadata": {},
   "outputs": [],
   "source": []
  }
 ],
 "metadata": {
  "kernelspec": {
   "display_name": "Python 3 (ipykernel)",
   "language": "python",
   "name": "python3"
  },
  "language_info": {
   "codemirror_mode": {
    "name": "ipython",
    "version": 3
   },
   "file_extension": ".py",
   "mimetype": "text/x-python",
   "name": "python",
   "nbconvert_exporter": "python",
   "pygments_lexer": "ipython3",
   "version": "3.9.12"
  }
 },
 "nbformat": 4,
 "nbformat_minor": 5
}
